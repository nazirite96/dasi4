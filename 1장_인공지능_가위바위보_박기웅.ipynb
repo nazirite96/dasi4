{
  "nbformat": 4,
  "nbformat_minor": 0,
  "metadata": {
    "colab": {
      "provenance": []
    },
    "kernelspec": {
      "name": "python3",
      "display_name": "Python 3"
    },
    "language_info": {
      "name": "python"
    }
  },
  "cells": [
    {
      "cell_type": "markdown",
      "source": [
        "# 프로젝트"
      ],
      "metadata": {
        "id": "ad6OwmiUsAvJ"
      }
    },
    {
      "cell_type": "code",
      "source": [
        "import tensorflow as tf\n",
        "import numpy as np\n",
        "\n",
        "print(tf.__version__)\n",
        "print(np.__version__)"
      ],
      "metadata": {
        "colab": {
          "base_uri": "https://localhost:8080/"
        },
        "id": "Y-l4rMq1r1XS",
        "outputId": "b32772df-748f-4815-b9c4-a2cfdda1570f"
      },
      "execution_count": 5,
      "outputs": [
        {
          "output_type": "stream",
          "name": "stdout",
          "text": [
            "2.18.0\n",
            "2.0.2\n"
          ]
        }
      ]
    },
    {
      "cell_type": "code",
      "source": [
        "## 압축 해제 코드 -\n",
        "# 만든 데이터를 Colab에 올려주세요\n",
        "# 압축파일 이름을 맞춰주세요~\n",
        "\n",
        "!unzip scissor.zip -d 가위\n",
        "!unzip rock.zip -d 바위\n",
        "!unzip paper.zip   -d 보"
      ],
      "metadata": {
        "colab": {
          "base_uri": "https://localhost:8080/"
        },
        "id": "E10p08lxvy5w",
        "outputId": "5722f764-3995-4acf-9874-256b01bd2806"
      },
      "execution_count": 6,
      "outputs": [
        {
          "output_type": "stream",
          "name": "stdout",
          "text": [
            "Archive:  scissor.zip\n",
            " extracting: 가위/0.jpg            \n",
            " extracting: 가위/1.jpg            \n",
            " extracting: 가위/2.jpg            \n",
            " extracting: 가위/3.jpg            \n",
            " extracting: 가위/4.jpg            \n",
            " extracting: 가위/5.jpg            \n",
            " extracting: 가위/6.jpg            \n",
            " extracting: 가위/7.jpg            \n",
            " extracting: 가위/8.jpg            \n",
            " extracting: 가위/9.jpg            \n",
            " extracting: 가위/10.jpg           \n",
            " extracting: 가위/11.jpg           \n",
            " extracting: 가위/12.jpg           \n",
            " extracting: 가위/13.jpg           \n",
            " extracting: 가위/14.jpg           \n",
            " extracting: 가위/15.jpg           \n",
            " extracting: 가위/16.jpg           \n",
            " extracting: 가위/17.jpg           \n",
            " extracting: 가위/18.jpg           \n",
            " extracting: 가위/19.jpg           \n",
            " extracting: 가위/20.jpg           \n",
            " extracting: 가위/21.jpg           \n",
            " extracting: 가위/22.jpg           \n",
            " extracting: 가위/23.jpg           \n",
            " extracting: 가위/24.jpg           \n",
            " extracting: 가위/25.jpg           \n",
            " extracting: 가위/26.jpg           \n",
            " extracting: 가위/27.jpg           \n",
            " extracting: 가위/28.jpg           \n",
            " extracting: 가위/29.jpg           \n",
            " extracting: 가위/30.jpg           \n",
            " extracting: 가위/31.jpg           \n",
            " extracting: 가위/32.jpg           \n",
            " extracting: 가위/33.jpg           \n",
            " extracting: 가위/34.jpg           \n",
            " extracting: 가위/35.jpg           \n",
            " extracting: 가위/36.jpg           \n",
            " extracting: 가위/37.jpg           \n",
            " extracting: 가위/38.jpg           \n",
            " extracting: 가위/39.jpg           \n",
            " extracting: 가위/40.jpg           \n",
            " extracting: 가위/41.jpg           \n",
            " extracting: 가위/42.jpg           \n",
            " extracting: 가위/43.jpg           \n",
            " extracting: 가위/44.jpg           \n",
            " extracting: 가위/45.jpg           \n",
            " extracting: 가위/46.jpg           \n",
            " extracting: 가위/47.jpg           \n",
            " extracting: 가위/48.jpg           \n",
            " extracting: 가위/49.jpg           \n",
            " extracting: 가위/50.jpg           \n",
            " extracting: 가위/51.jpg           \n",
            " extracting: 가위/52.jpg           \n",
            " extracting: 가위/53.jpg           \n",
            " extracting: 가위/54.jpg           \n",
            " extracting: 가위/55.jpg           \n",
            " extracting: 가위/56.jpg           \n",
            " extracting: 가위/57.jpg           \n",
            " extracting: 가위/58.jpg           \n",
            " extracting: 가위/59.jpg           \n",
            " extracting: 가위/60.jpg           \n",
            " extracting: 가위/61.jpg           \n",
            " extracting: 가위/62.jpg           \n",
            " extracting: 가위/63.jpg           \n",
            " extracting: 가위/64.jpg           \n",
            " extracting: 가위/65.jpg           \n",
            " extracting: 가위/66.jpg           \n",
            " extracting: 가위/67.jpg           \n",
            " extracting: 가위/68.jpg           \n",
            " extracting: 가위/69.jpg           \n",
            " extracting: 가위/70.jpg           \n",
            " extracting: 가위/71.jpg           \n",
            " extracting: 가위/72.jpg           \n",
            " extracting: 가위/73.jpg           \n",
            " extracting: 가위/74.jpg           \n",
            " extracting: 가위/75.jpg           \n",
            " extracting: 가위/76.jpg           \n",
            " extracting: 가위/77.jpg           \n",
            " extracting: 가위/78.jpg           \n",
            " extracting: 가위/79.jpg           \n",
            " extracting: 가위/80.jpg           \n",
            " extracting: 가위/81.jpg           \n",
            " extracting: 가위/82.jpg           \n",
            " extracting: 가위/83.jpg           \n",
            " extracting: 가위/84.jpg           \n",
            " extracting: 가위/85.jpg           \n",
            " extracting: 가위/86.jpg           \n",
            " extracting: 가위/87.jpg           \n",
            " extracting: 가위/88.jpg           \n",
            " extracting: 가위/89.jpg           \n",
            " extracting: 가위/90.jpg           \n",
            " extracting: 가위/91.jpg           \n",
            " extracting: 가위/92.jpg           \n",
            " extracting: 가위/93.jpg           \n",
            " extracting: 가위/94.jpg           \n",
            " extracting: 가위/95.jpg           \n",
            " extracting: 가위/96.jpg           \n",
            " extracting: 가위/97.jpg           \n",
            " extracting: 가위/98.jpg           \n",
            " extracting: 가위/99.jpg           \n",
            "Archive:  rock.zip\n",
            " extracting: 바위/0.jpg            \n",
            " extracting: 바위/1.jpg            \n",
            " extracting: 바위/2.jpg            \n",
            " extracting: 바위/3.jpg            \n",
            " extracting: 바위/4.jpg            \n",
            " extracting: 바위/5.jpg            \n",
            " extracting: 바위/6.jpg            \n",
            " extracting: 바위/7.jpg            \n",
            " extracting: 바위/8.jpg            \n",
            " extracting: 바위/9.jpg            \n",
            " extracting: 바위/10.jpg           \n",
            " extracting: 바위/11.jpg           \n",
            " extracting: 바위/12.jpg           \n",
            " extracting: 바위/13.jpg           \n",
            " extracting: 바위/14.jpg           \n",
            " extracting: 바위/15.jpg           \n",
            " extracting: 바위/16.jpg           \n",
            " extracting: 바위/17.jpg           \n",
            " extracting: 바위/18.jpg           \n",
            " extracting: 바위/19.jpg           \n",
            " extracting: 바위/20.jpg           \n",
            " extracting: 바위/21.jpg           \n",
            " extracting: 바위/22.jpg           \n",
            " extracting: 바위/23.jpg           \n",
            " extracting: 바위/24.jpg           \n",
            " extracting: 바위/25.jpg           \n",
            " extracting: 바위/26.jpg           \n",
            " extracting: 바위/27.jpg           \n",
            " extracting: 바위/28.jpg           \n",
            " extracting: 바위/29.jpg           \n",
            " extracting: 바위/30.jpg           \n",
            " extracting: 바위/31.jpg           \n",
            " extracting: 바위/32.jpg           \n",
            " extracting: 바위/33.jpg           \n",
            " extracting: 바위/34.jpg           \n",
            " extracting: 바위/35.jpg           \n",
            " extracting: 바위/36.jpg           \n",
            " extracting: 바위/37.jpg           \n",
            " extracting: 바위/38.jpg           \n",
            " extracting: 바위/39.jpg           \n",
            " extracting: 바위/40.jpg           \n",
            " extracting: 바위/41.jpg           \n",
            " extracting: 바위/42.jpg           \n",
            " extracting: 바위/43.jpg           \n",
            " extracting: 바위/44.jpg           \n",
            " extracting: 바위/45.jpg           \n",
            " extracting: 바위/46.jpg           \n",
            " extracting: 바위/47.jpg           \n",
            " extracting: 바위/48.jpg           \n",
            " extracting: 바위/49.jpg           \n",
            " extracting: 바위/50.jpg           \n",
            " extracting: 바위/51.jpg           \n",
            " extracting: 바위/52.jpg           \n",
            " extracting: 바위/53.jpg           \n",
            " extracting: 바위/54.jpg           \n",
            " extracting: 바위/55.jpg           \n",
            " extracting: 바위/56.jpg           \n",
            " extracting: 바위/57.jpg           \n",
            " extracting: 바위/58.jpg           \n",
            " extracting: 바위/59.jpg           \n",
            " extracting: 바위/60.jpg           \n",
            " extracting: 바위/61.jpg           \n",
            " extracting: 바위/62.jpg           \n",
            " extracting: 바위/63.jpg           \n",
            " extracting: 바위/64.jpg           \n",
            " extracting: 바위/65.jpg           \n",
            " extracting: 바위/66.jpg           \n",
            " extracting: 바위/67.jpg           \n",
            " extracting: 바위/68.jpg           \n",
            " extracting: 바위/69.jpg           \n",
            " extracting: 바위/70.jpg           \n",
            " extracting: 바위/71.jpg           \n",
            " extracting: 바위/72.jpg           \n",
            " extracting: 바위/73.jpg           \n",
            " extracting: 바위/74.jpg           \n",
            " extracting: 바위/75.jpg           \n",
            " extracting: 바위/76.jpg           \n",
            " extracting: 바위/77.jpg           \n",
            " extracting: 바위/78.jpg           \n",
            " extracting: 바위/79.jpg           \n",
            " extracting: 바위/80.jpg           \n",
            " extracting: 바위/81.jpg           \n",
            " extracting: 바위/82.jpg           \n",
            " extracting: 바위/83.jpg           \n",
            " extracting: 바위/84.jpg           \n",
            " extracting: 바위/85.jpg           \n",
            " extracting: 바위/86.jpg           \n",
            " extracting: 바위/87.jpg           \n",
            " extracting: 바위/88.jpg           \n",
            " extracting: 바위/89.jpg           \n",
            " extracting: 바위/90.jpg           \n",
            " extracting: 바위/91.jpg           \n",
            " extracting: 바위/92.jpg           \n",
            " extracting: 바위/93.jpg           \n",
            " extracting: 바위/94.jpg           \n",
            " extracting: 바위/95.jpg           \n",
            " extracting: 바위/96.jpg           \n",
            " extracting: 바위/97.jpg           \n",
            " extracting: 바위/98.jpg           \n",
            " extracting: 바위/99.jpg           \n",
            "Archive:  paper.zip\n",
            " extracting: 보/0.jpg               \n",
            " extracting: 보/1.jpg               \n",
            " extracting: 보/2.jpg               \n",
            " extracting: 보/3.jpg               \n",
            " extracting: 보/4.jpg               \n",
            " extracting: 보/5.jpg               \n",
            " extracting: 보/6.jpg               \n",
            " extracting: 보/7.jpg               \n",
            " extracting: 보/8.jpg               \n",
            " extracting: 보/9.jpg               \n",
            " extracting: 보/10.jpg              \n",
            " extracting: 보/11.jpg              \n",
            " extracting: 보/12.jpg              \n",
            " extracting: 보/13.jpg              \n",
            " extracting: 보/14.jpg              \n",
            " extracting: 보/15.jpg              \n",
            " extracting: 보/16.jpg              \n",
            " extracting: 보/17.jpg              \n",
            " extracting: 보/18.jpg              \n",
            " extracting: 보/19.jpg              \n",
            " extracting: 보/20.jpg              \n",
            " extracting: 보/21.jpg              \n",
            " extracting: 보/22.jpg              \n",
            " extracting: 보/23.jpg              \n",
            " extracting: 보/24.jpg              \n",
            " extracting: 보/25.jpg              \n",
            " extracting: 보/26.jpg              \n",
            " extracting: 보/27.jpg              \n",
            " extracting: 보/28.jpg              \n",
            " extracting: 보/29.jpg              \n",
            " extracting: 보/30.jpg              \n",
            " extracting: 보/31.jpg              \n",
            " extracting: 보/32.jpg              \n",
            " extracting: 보/33.jpg              \n",
            " extracting: 보/34.jpg              \n",
            " extracting: 보/35.jpg              \n",
            " extracting: 보/36.jpg              \n",
            " extracting: 보/37.jpg              \n",
            " extracting: 보/38.jpg              \n",
            " extracting: 보/39.jpg              \n",
            " extracting: 보/40.jpg              \n",
            " extracting: 보/41.jpg              \n",
            " extracting: 보/42.jpg              \n",
            " extracting: 보/43.jpg              \n",
            " extracting: 보/44.jpg              \n",
            " extracting: 보/45.jpg              \n",
            " extracting: 보/46.jpg              \n",
            " extracting: 보/47.jpg              \n",
            " extracting: 보/48.jpg              \n",
            " extracting: 보/49.jpg              \n",
            " extracting: 보/50.jpg              \n",
            " extracting: 보/51.jpg              \n",
            " extracting: 보/52.jpg              \n",
            " extracting: 보/53.jpg              \n",
            " extracting: 보/54.jpg              \n",
            " extracting: 보/55.jpg              \n",
            " extracting: 보/56.jpg              \n",
            " extracting: 보/57.jpg              \n",
            " extracting: 보/58.jpg              \n",
            " extracting: 보/59.jpg              \n",
            " extracting: 보/60.jpg              \n",
            " extracting: 보/61.jpg              \n",
            " extracting: 보/62.jpg              \n",
            " extracting: 보/63.jpg              \n",
            " extracting: 보/64.jpg              \n",
            " extracting: 보/65.jpg              \n",
            " extracting: 보/66.jpg              \n",
            " extracting: 보/67.jpg              \n",
            " extracting: 보/68.jpg              \n",
            " extracting: 보/69.jpg              \n",
            " extracting: 보/70.jpg              \n",
            " extracting: 보/71.jpg              \n",
            " extracting: 보/72.jpg              \n",
            " extracting: 보/73.jpg              \n",
            " extracting: 보/74.jpg              \n",
            " extracting: 보/75.jpg              \n",
            " extracting: 보/76.jpg              \n",
            " extracting: 보/77.jpg              \n",
            " extracting: 보/78.jpg              \n",
            " extracting: 보/79.jpg              \n",
            " extracting: 보/80.jpg              \n",
            " extracting: 보/81.jpg              \n",
            " extracting: 보/82.jpg              \n",
            " extracting: 보/83.jpg              \n",
            " extracting: 보/84.jpg              \n",
            " extracting: 보/85.jpg              \n",
            " extracting: 보/86.jpg              \n",
            " extracting: 보/87.jpg              \n",
            " extracting: 보/88.jpg              \n",
            " extracting: 보/89.jpg              \n",
            " extracting: 보/90.jpg              \n",
            " extracting: 보/91.jpg              \n",
            " extracting: 보/92.jpg              \n",
            " extracting: 보/93.jpg              \n",
            " extracting: 보/94.jpg              \n",
            " extracting: 보/95.jpg              \n",
            " extracting: 보/96.jpg              \n",
            " extracting: 보/97.jpg              \n",
            " extracting: 보/98.jpg              \n",
            " extracting: 보/99.jpg              \n"
          ]
        }
      ]
    },
    {
      "cell_type": "code",
      "source": [
        "from PIL import Image\n",
        "import glob\n",
        "import os\n",
        "\n",
        "print(\"PIL 라이브러리 import 완료!\")"
      ],
      "metadata": {
        "colab": {
          "base_uri": "https://localhost:8080/"
        },
        "id": "7sQVdquQwhOP",
        "outputId": "470442d4-90d6-4b1b-a7b8-7c3e634a10f6"
      },
      "execution_count": 7,
      "outputs": [
        {
          "output_type": "stream",
          "name": "stdout",
          "text": [
            "PIL 라이브러리 import 완료!\n"
          ]
        }
      ]
    },
    {
      "cell_type": "markdown",
      "source": [],
      "metadata": {
        "id": "_x4Gk_mJwwT3"
      }
    },
    {
      "cell_type": "code",
      "source": [
        "## 여기서 사용된 코드가 업데이트 된 부분이있습니다\n",
        "\n",
        "def resize_images(img_path):\n",
        "\timages=glob.glob(img_path + \"/*.jpg\")\n",
        "\n",
        "\tprint(len(images), \" images to be resized.\")\n",
        "\n",
        "    # 파일마다 모두 28x28 사이즈로 바꾸어 저장합니다.\n",
        "\ttarget_size=(28,28)\n",
        "\tfor img in images:\n",
        "\t\told_img=Image.open(img)\n",
        "\t\tnew_img = old_img.resize(target_size, Image.Resampling.LANCZOS)\n",
        "\t\tnew_img.save(img, \"JPEG\")\n",
        "\n",
        "\tprint(len(images), \" images resized.\")\n",
        "\n",
        "# 가위 이미지가 저장된 디렉토리 아래의 모든 jpg 파일을 읽어들여서\n",
        "image_dir_path = \"./가위\"\n",
        "resize_images(image_dir_path)\n",
        "\n",
        "print(\"가위 이미지 resize 완료!\")"
      ],
      "metadata": {
        "colab": {
          "base_uri": "https://localhost:8080/"
        },
        "id": "MLCkQPu4wj0o",
        "outputId": "0c76f447-99ab-4e63-bab9-9eb2c16cd07c"
      },
      "execution_count": 8,
      "outputs": [
        {
          "output_type": "stream",
          "name": "stdout",
          "text": [
            "100  images to be resized.\n",
            "100  images resized.\n",
            "가위 이미지 resize 완료!\n"
          ]
        }
      ]
    },
    {
      "cell_type": "code",
      "source": [
        "image_dir_path = \"./바위\"\n",
        "resize_images(image_dir_path)\n",
        "\n",
        "print(\"바위 이미지 resize 완료!\")\n",
        "\n",
        "image_dir_path = \"./보\"\n",
        "resize_images(image_dir_path)\n",
        "\n",
        "print(\"보 이미지 resize 완료!\")"
      ],
      "metadata": {
        "colab": {
          "base_uri": "https://localhost:8080/"
        },
        "id": "EDhSNRiNwrNn",
        "outputId": "753ecd5d-d93c-4275-8a96-2457d3678b1f"
      },
      "execution_count": 9,
      "outputs": [
        {
          "output_type": "stream",
          "name": "stdout",
          "text": [
            "100  images to be resized.\n",
            "100  images resized.\n",
            "바위 이미지 resize 완료!\n",
            "100  images to be resized.\n",
            "100  images resized.\n",
            "보 이미지 resize 완료!\n"
          ]
        }
      ]
    },
    {
      "cell_type": "code",
      "source": [
        "import numpy as np\n",
        "\n",
        "# 셔플 함수를 넣어봤습니다\n",
        "from sklearn.utils import shuffle\n",
        "\n",
        "# 저희가 만든 데이터는 개수가 300개가 아닐수있습니다\n",
        "# 아래 함수의 인자가 조금 바뀐것에 주의하세요\n",
        "\n",
        "\n",
        "def load_data(img_path):  # 가위바위보 이미지 개수 총합에 주의하세요.\n",
        "    # 가위 : 0, 바위 : 1, 보 : 2\n",
        "    img_size=28\n",
        "    color=3\n",
        "\n",
        "    # 데이터의 개수 자동 조정\n",
        "    all_images = glob.glob(f'./가위/*.jpg') + \\\n",
        "                 glob.glob(f'./바위/*.jpg') + \\\n",
        "                 glob.glob(f'./보/*.jpg')\n",
        "    number_of_data = len(all_images)\n",
        "\n",
        "    #이미지 데이터와 라벨(가위 : 0, 바위 : 1, 보 : 2) 데이터를 담을 행렬(matrix) 영역을 생성합니다.\n",
        "    imgs=np.zeros(number_of_data*img_size*img_size*color,dtype=np.int32).reshape(number_of_data,img_size,img_size,color)\n",
        "    labels=np.zeros(number_of_data,dtype=np.int32)\n",
        "\n",
        "\n",
        "\n",
        "    idx=0\n",
        "    for file in glob.iglob('./가위/*.jpg'):\n",
        "        img = np.array(Image.open(file),dtype=np.int32)\n",
        "        imgs[idx,:,:,:]=img    # 데이터 영역에 이미지 행렬을 복사\n",
        "        labels[idx]=0   # 가위 : 0\n",
        "        idx=idx+1\n",
        "\n",
        "    for file in glob.iglob('./바위/*.jpg'):\n",
        "        img = np.array(Image.open(file),dtype=np.int32)\n",
        "        imgs[idx,:,:,:]=img    # 데이터 영역에 이미지 행렬을 복사\n",
        "        labels[idx]=1   # 바위 : 1\n",
        "        idx=idx+1\n",
        "\n",
        "    for file in glob.iglob('./보/*.jpg'):\n",
        "        img = np.array(Image.open(file),dtype=np.int32)\n",
        "        imgs[idx,:,:,:]=img    # 데이터 영역에 이미지 행렬을 복사\n",
        "        labels[idx]=2   # 보 : 2\n",
        "        idx=idx+1\n",
        "\n",
        "    print(\"학습데이터(x_train)의 이미지 개수는\", idx,\"입니다.\")\n",
        "    return imgs, labels\n",
        "\n",
        "image_dir_path = \".\"\n",
        "(x_train, y_train)=load_data(image_dir_path)\n",
        "\n",
        "x_train, y_train = shuffle(x_train, y_train, random_state=42)\n",
        "x_train_norm = x_train/255.0   # 입력은 0~1 사이의 값으로 정규화\n",
        "\n",
        "print(\"x_train shape: {}\".format(x_train.shape))\n",
        "print(\"y_train shape: {}\".format(y_train.shape))"
      ],
      "metadata": {
        "colab": {
          "base_uri": "https://localhost:8080/"
        },
        "id": "jlYnLEV1xb4v",
        "outputId": "60099570-9939-4da5-8e19-964bcd26ebfa"
      },
      "execution_count": 10,
      "outputs": [
        {
          "output_type": "stream",
          "name": "stdout",
          "text": [
            "학습데이터(x_train)의 이미지 개수는 300 입니다.\n",
            "x_train shape: (300, 28, 28, 3)\n",
            "y_train shape: (300,)\n"
          ]
        }
      ]
    },
    {
      "cell_type": "code",
      "source": [
        "## 사진 화질이 말도안되는데...? 이걸 알아맞춘다고...?\n",
        "\n",
        "import matplotlib.pyplot as plt\n",
        "\n",
        "plt.imshow(x_train[224])\n",
        "print('라벨: ', y_train[224])"
      ],
      "metadata": {
        "colab": {
          "base_uri": "https://localhost:8080/",
          "height": 448
        },
        "id": "j-olr7PwFYtc",
        "outputId": "6282ce76-d245-4a31-c6c9-5981a46c80c4"
      },
      "execution_count": 11,
      "outputs": [
        {
          "output_type": "stream",
          "name": "stdout",
          "text": [
            "라벨:  0\n"
          ]
        },
        {
          "output_type": "display_data",
          "data": {
            "text/plain": [
              "<Figure size 640x480 with 1 Axes>"
            ],
            "image/png": "[encoded data removed]"
          },
          "metadata": {}
        }
      ]
    },
    {
      "cell_type": "code",
      "source": [
        "# ## ! LMS에서도 이거 추가해줘야합니다\n",
        "from tensorflow import keras\n",
        "\n",
        "# 아래의 하이퍼파라미터는 예시입니다. 높은 인식률을 얻기 위해 하이퍼파라미터를 수정해 보세요.\n",
        "n_channel_1=16\n",
        "n_channel_2=32\n",
        "n_dense=32\n",
        "n_train_epoch=10\n",
        "\n",
        "model=keras.models.Sequential()\n",
        "model.add(keras.layers.Conv2D(n_channel_1, (3,3), activation='relu', input_shape=(28,28,3)))\n",
        "model.add(keras.layers.MaxPool2D(2,2))\n",
        "model.add(keras.layers.Conv2D(n_channel_2, (3,3), activation='relu'))\n",
        "model.add(keras.layers.MaxPooling2D((2,2)))\n",
        "model.add(keras.layers.Flatten())\n",
        "model.add(keras.layers.Dense(n_dense, activation='relu'))\n",
        "model.add(keras.layers.Dense(3, activation='softmax'))\n",
        "\n",
        "model.summary()"
      ],
      "metadata": {
        "colab": {
          "base_uri": "https://localhost:8080/",
          "height": 409
        },
        "id": "Ge7qdwshFben",
        "outputId": "99537ad6-2b3c-42ef-96bd-a4d9ed077ae3"
      },
      "execution_count": 12,
      "outputs": [
        {
          "output_type": "stream",
          "name": "stderr",
          "text": [
            "/usr/local/lib/python3.11/dist-packages/keras/src/layers/convolutional/base_conv.py:107: UserWarning: Do not pass an `input_shape`/`input_dim` argument to a layer. When using Sequential models, prefer using an `Input(shape)` object as the first layer in the model instead.\n",
            "  super().__init__(activity_regularizer=activity_regularizer, **kwargs)\n"
          ]
        },
        {
          "output_type": "display_data",
          "data": {
            "text/plain": [
              "\u001b[1mModel: \"sequential\"\u001b[0m\n"
            ],
            "text/html": [
              "<pre style=\"white-space:pre;overflow-x:auto;line-height:normal;font-family:Menlo,'DejaVu Sans Mono',consolas,'Courier New',monospace\"><span style=\"font-weight: bold\">Model: \"sequential\"</span>\n",
              "</pre>\n"
            ]
          },
          "metadata": {}
        },
        {
          "output_type": "display_data",
          "data": {
            "text/plain": [
              "┏━━━━━━━━━━━━━━━━━━━━━━━━━━━━━━━━━┳━━━━━━━━━━━━━━━━━━━━━━━━┳━━━━━━━━━━━━━━━┓\n",
              "┃\u001b[1m \u001b[0m\u001b[1mLayer (type)                   \u001b[0m\u001b[1m \u001b[0m┃\u001b[1m \u001b[0m\u001b[1mOutput Shape          \u001b[0m\u001b[1m \u001b[0m┃\u001b[1m \u001b[0m\u001b[1m      Param #\u001b[0m\u001b[1m \u001b[0m┃\n",
              "┡━━━━━━━━━━━━━━━━━━━━━━━━━━━━━━━━━╇━━━━━━━━━━━━━━━━━━━━━━━━╇━━━━━━━━━━━━━━━┩\n",
              "│ conv2d (\u001b[38;5;33mConv2D\u001b[0m)                 │ (\u001b[38;5;45mNone\u001b[0m, \u001b[38;5;34m26\u001b[0m, \u001b[38;5;34m26\u001b[0m, \u001b[38;5;34m16\u001b[0m)     │           \u001b[38;5;34m448\u001b[0m │\n",
              "├─────────────────────────────────┼────────────────────────┼───────────────┤\n",
              "│ max_pooling2d (\u001b[38;5;33mMaxPooling2D\u001b[0m)    │ (\u001b[38;5;45mNone\u001b[0m, \u001b[38;5;34m13\u001b[0m, \u001b[38;5;34m13\u001b[0m, \u001b[38;5;34m16\u001b[0m)     │             \u001b[38;5;34m0\u001b[0m │\n",
              "├─────────────────────────────────┼────────────────────────┼───────────────┤\n",
              "│ conv2d_1 (\u001b[38;5;33mConv2D\u001b[0m)               │ (\u001b[38;5;45mNone\u001b[0m, \u001b[38;5;34m11\u001b[0m, \u001b[38;5;34m11\u001b[0m, \u001b[38;5;34m32\u001b[0m)     │         \u001b[38;5;34m4,640\u001b[0m │\n",
              "├─────────────────────────────────┼────────────────────────┼───────────────┤\n",
              "│ max_pooling2d_1 (\u001b[38;5;33mMaxPooling2D\u001b[0m)  │ (\u001b[38;5;45mNone\u001b[0m, \u001b[38;5;34m5\u001b[0m, \u001b[38;5;34m5\u001b[0m, \u001b[38;5;34m32\u001b[0m)       │             \u001b[38;5;34m0\u001b[0m │\n",
              "├─────────────────────────────────┼────────────────────────┼───────────────┤\n",
              "│ flatten (\u001b[38;5;33mFlatten\u001b[0m)               │ (\u001b[38;5;45mNone\u001b[0m, \u001b[38;5;34m800\u001b[0m)            │             \u001b[38;5;34m0\u001b[0m │\n",
              "├─────────────────────────────────┼────────────────────────┼───────────────┤\n",
              "│ dense (\u001b[38;5;33mDense\u001b[0m)                   │ (\u001b[38;5;45mNone\u001b[0m, \u001b[38;5;34m32\u001b[0m)             │        \u001b[38;5;34m25,632\u001b[0m │\n",
              "├─────────────────────────────────┼────────────────────────┼───────────────┤\n",
              "│ dense_1 (\u001b[38;5;33mDense\u001b[0m)                 │ (\u001b[38;5;45mNone\u001b[0m, \u001b[38;5;34m3\u001b[0m)              │            \u001b[38;5;34m99\u001b[0m │\n",
              "└─────────────────────────────────┴────────────────────────┴───────────────┘\n"
            ],
            "text/html": [
              "<pre style=\"white-space:pre;overflow-x:auto;line-height:normal;font-family:Menlo,'DejaVu Sans Mono',consolas,'Courier New',monospace\">┏━━━━━━━━━━━━━━━━━━━━━━━━━━━━━━━━━┳━━━━━━━━━━━━━━━━━━━━━━━━┳━━━━━━━━━━━━━━━┓\n",
              "┃<span style=\"font-weight: bold\"> Layer (type)                    </span>┃<span style=\"font-weight: bold\"> Output Shape           </span>┃<span style=\"font-weight: bold\">       Param # </span>┃\n",
              "┡━━━━━━━━━━━━━━━━━━━━━━━━━━━━━━━━━╇━━━━━━━━━━━━━━━━━━━━━━━━╇━━━━━━━━━━━━━━━┩\n",
              "│ conv2d (<span style=\"color: #0087ff; text-decoration-color: #0087ff\">Conv2D</span>)                 │ (<span style=\"color: #00d7ff; text-decoration-color: #00d7ff\">None</span>, <span style=\"color: #00af00; text-decoration-color: #00af00\">26</span>, <span style=\"color: #00af00; text-decoration-color: #00af00\">26</span>, <span style=\"color: #00af00; text-decoration-color: #00af00\">16</span>)     │           <span style=\"color: #00af00; text-decoration-color: #00af00\">448</span> │\n",
              "├─────────────────────────────────┼────────────────────────┼───────────────┤\n",
              "│ max_pooling2d (<span style=\"color: #0087ff; text-decoration-color: #0087ff\">MaxPooling2D</span>)    │ (<span style=\"color: #00d7ff; text-decoration-color: #00d7ff\">None</span>, <span style=\"color: #00af00; text-decoration-color: #00af00\">13</span>, <span style=\"color: #00af00; text-decoration-color: #00af00\">13</span>, <span style=\"color: #00af00; text-decoration-color: #00af00\">16</span>)     │             <span style=\"color: #00af00; text-decoration-color: #00af00\">0</span> │\n",
              "├─────────────────────────────────┼────────────────────────┼───────────────┤\n",
              "│ conv2d_1 (<span style=\"color: #0087ff; text-decoration-color: #0087ff\">Conv2D</span>)               │ (<span style=\"color: #00d7ff; text-decoration-color: #00d7ff\">None</span>, <span style=\"color: #00af00; text-decoration-color: #00af00\">11</span>, <span style=\"color: #00af00; text-decoration-color: #00af00\">11</span>, <span style=\"color: #00af00; text-decoration-color: #00af00\">32</span>)     │         <span style=\"color: #00af00; text-decoration-color: #00af00\">4,640</span> │\n",
              "├─────────────────────────────────┼────────────────────────┼───────────────┤\n",
              "│ max_pooling2d_1 (<span style=\"color: #0087ff; text-decoration-color: #0087ff\">MaxPooling2D</span>)  │ (<span style=\"color: #00d7ff; text-decoration-color: #00d7ff\">None</span>, <span style=\"color: #00af00; text-decoration-color: #00af00\">5</span>, <span style=\"color: #00af00; text-decoration-color: #00af00\">5</span>, <span style=\"color: #00af00; text-decoration-color: #00af00\">32</span>)       │             <span style=\"color: #00af00; text-decoration-color: #00af00\">0</span> │\n",
              "├─────────────────────────────────┼────────────────────────┼───────────────┤\n",
              "│ flatten (<span style=\"color: #0087ff; text-decoration-color: #0087ff\">Flatten</span>)               │ (<span style=\"color: #00d7ff; text-decoration-color: #00d7ff\">None</span>, <span style=\"color: #00af00; text-decoration-color: #00af00\">800</span>)            │             <span style=\"color: #00af00; text-decoration-color: #00af00\">0</span> │\n",
              "├─────────────────────────────────┼────────────────────────┼───────────────┤\n",
              "│ dense (<span style=\"color: #0087ff; text-decoration-color: #0087ff\">Dense</span>)                   │ (<span style=\"color: #00d7ff; text-decoration-color: #00d7ff\">None</span>, <span style=\"color: #00af00; text-decoration-color: #00af00\">32</span>)             │        <span style=\"color: #00af00; text-decoration-color: #00af00\">25,632</span> │\n",
              "├─────────────────────────────────┼────────────────────────┼───────────────┤\n",
              "│ dense_1 (<span style=\"color: #0087ff; text-decoration-color: #0087ff\">Dense</span>)                 │ (<span style=\"color: #00d7ff; text-decoration-color: #00d7ff\">None</span>, <span style=\"color: #00af00; text-decoration-color: #00af00\">3</span>)              │            <span style=\"color: #00af00; text-decoration-color: #00af00\">99</span> │\n",
              "└─────────────────────────────────┴────────────────────────┴───────────────┘\n",
              "</pre>\n"
            ]
          },
          "metadata": {}
        },
        {
          "output_type": "display_data",
          "data": {
            "text/plain": [
              "\u001b[1m Total params: \u001b[0m\u001b[38;5;34m30,819\u001b[0m (120.39 KB)\n"
            ],
            "text/html": [
              "<pre style=\"white-space:pre;overflow-x:auto;line-height:normal;font-family:Menlo,'DejaVu Sans Mono',consolas,'Courier New',monospace\"><span style=\"font-weight: bold\"> Total params: </span><span style=\"color: #00af00; text-decoration-color: #00af00\">30,819</span> (120.39 KB)\n",
              "</pre>\n"
            ]
          },
          "metadata": {}
        },
        {
          "output_type": "display_data",
          "data": {
            "text/plain": [
              "\u001b[1m Trainable params: \u001b[0m\u001b[38;5;34m30,819\u001b[0m (120.39 KB)\n"
            ],
            "text/html": [
              "<pre style=\"white-space:pre;overflow-x:auto;line-height:normal;font-family:Menlo,'DejaVu Sans Mono',consolas,'Courier New',monospace\"><span style=\"font-weight: bold\"> Trainable params: </span><span style=\"color: #00af00; text-decoration-color: #00af00\">30,819</span> (120.39 KB)\n",
              "</pre>\n"
            ]
          },
          "metadata": {}
        },
        {
          "output_type": "display_data",
          "data": {
            "text/plain": [
              "\u001b[1m Non-trainable params: \u001b[0m\u001b[38;5;34m0\u001b[0m (0.00 B)\n"
            ],
            "text/html": [
              "<pre style=\"white-space:pre;overflow-x:auto;line-height:normal;font-family:Menlo,'DejaVu Sans Mono',consolas,'Courier New',monospace\"><span style=\"font-weight: bold\"> Non-trainable params: </span><span style=\"color: #00af00; text-decoration-color: #00af00\">0</span> (0.00 B)\n",
              "</pre>\n"
            ]
          },
          "metadata": {}
        }
      ]
    },
    {
      "cell_type": "code",
      "source": [
        "# 왜 정확도가 100퍼센트가 나올까?\n",
        "\n",
        "model.compile(optimizer='adam',\n",
        "             loss='sparse_categorical_crossentropy',\n",
        "             metrics=['accuracy'])\n",
        "\n",
        "# 모델 훈련\n",
        "model.fit(x_train, y_train, epochs=n_train_epoch)"
      ],
      "metadata": {
        "colab": {
          "base_uri": "https://localhost:8080/"
        },
        "id": "N2esEIO9FndZ",
        "outputId": "f73985a9-e1c0-4517-ac17-664dda90cebd"
      },
      "execution_count": 13,
      "outputs": [
        {
          "output_type": "stream",
          "name": "stdout",
          "text": [
            "Epoch 1/10\n",
            "\u001b[1m10/10\u001b[0m \u001b[32m━━━━━━━━━━━━━━━━━━━━\u001b[0m\u001b[37m\u001b[0m \u001b[1m2s\u001b[0m 19ms/step - accuracy: 0.3581 - loss: 44.1556\n",
            "Epoch 2/10\n",
            "\u001b[1m10/10\u001b[0m \u001b[32m━━━━━━━━━━━━━━━━━━━━\u001b[0m\u001b[37m\u001b[0m \u001b[1m1s\u001b[0m 19ms/step - accuracy: 0.3433 - loss: 18.4592\n",
            "Epoch 3/10\n",
            "\u001b[1m10/10\u001b[0m \u001b[32m━━━━━━━━━━━━━━━━━━━━\u001b[0m\u001b[37m\u001b[0m \u001b[1m0s\u001b[0m 17ms/step - accuracy: 0.3352 - loss: 6.4265\n",
            "Epoch 4/10\n",
            "\u001b[1m10/10\u001b[0m \u001b[32m━━━━━━━━━━━━━━━━━━━━\u001b[0m\u001b[37m\u001b[0m \u001b[1m0s\u001b[0m 17ms/step - accuracy: 0.4590 - loss: 2.0258\n",
            "Epoch 5/10\n",
            "\u001b[1m10/10\u001b[0m \u001b[32m━━━━━━━━━━━━━━━━━━━━\u001b[0m\u001b[37m\u001b[0m \u001b[1m0s\u001b[0m 17ms/step - accuracy: 0.5956 - loss: 1.1463\n",
            "Epoch 6/10\n",
            "\u001b[1m10/10\u001b[0m \u001b[32m━━━━━━━━━━━━━━━━━━━━\u001b[0m\u001b[37m\u001b[0m \u001b[1m0s\u001b[0m 19ms/step - accuracy: 0.6721 - loss: 0.8338\n",
            "Epoch 7/10\n",
            "\u001b[1m10/10\u001b[0m \u001b[32m━━━━━━━━━━━━━━━━━━━━\u001b[0m\u001b[37m\u001b[0m \u001b[1m0s\u001b[0m 17ms/step - accuracy: 0.7041 - loss: 0.6950\n",
            "Epoch 8/10\n",
            "\u001b[1m10/10\u001b[0m \u001b[32m━━━━━━━━━━━━━━━━━━━━\u001b[0m\u001b[37m\u001b[0m \u001b[1m0s\u001b[0m 17ms/step - accuracy: 0.8128 - loss: 0.4601\n",
            "Epoch 9/10\n",
            "\u001b[1m10/10\u001b[0m \u001b[32m━━━━━━━━━━━━━━━━━━━━\u001b[0m\u001b[37m\u001b[0m \u001b[1m0s\u001b[0m 17ms/step - accuracy: 0.7965 - loss: 0.4744\n",
            "Epoch 10/10\n",
            "\u001b[1m10/10\u001b[0m \u001b[32m━━━━━━━━━━━━━━━━━━━━\u001b[0m\u001b[37m\u001b[0m \u001b[1m0s\u001b[0m 18ms/step - accuracy: 0.8245 - loss: 0.4195\n"
          ]
        },
        {
          "output_type": "execute_result",
          "data": {
            "text/plain": [
              "<keras.src.callbacks.history.History at 0x7df03dd87850>"
            ]
          },
          "metadata": {},
          "execution_count": 13
        }
      ]
    },
    {
      "cell_type": "code",
      "source": [
        "## 압축 해제 코드 -\n",
        "# 만든 데이터를 Colab에 올려주세요\n",
        "# 압축파일 이름을 맞춰주세요~\n",
        "\n",
        "!unzip /content/최은서-가위-samples.zip -d 가위_test\n",
        "!unzip /content/최은서-바위-samples.zip -d 바위_test\n",
        "!unzip /content/최은서-보-samples.zip   -d 보_test"
      ],
      "metadata": {
        "colab": {
          "base_uri": "https://localhost:8080/"
        },
        "collapsed": true,
        "id": "mYtTGIGTF0Kd",
        "outputId": "7f7a704f-11a5-4a24-c2b5-6944f123bcd7"
      },
      "execution_count": 27,
      "outputs": [
        {
          "output_type": "stream",
          "name": "stdout",
          "text": [
            "Archive:  /content/최은서-가위-samples.zip\n",
            "replace 가위_test/0.jpg? [y]es, [n]o, [A]ll, [N]one, [r]ename: n\n",
            "replace 가위_test/1.jpg? [y]es, [n]o, [A]ll, [N]one, [r]ename: A\n",
            " extracting: 가위_test/1.jpg       \n",
            " extracting: 가위_test/2.jpg       \n",
            " extracting: 가위_test/3.jpg       \n",
            " extracting: 가위_test/4.jpg       \n",
            " extracting: 가위_test/5.jpg       \n",
            " extracting: 가위_test/6.jpg       \n",
            " extracting: 가위_test/7.jpg       \n",
            " extracting: 가위_test/8.jpg       \n",
            " extracting: 가위_test/9.jpg       \n",
            " extracting: 가위_test/10.jpg      \n",
            " extracting: 가위_test/11.jpg      \n",
            " extracting: 가위_test/12.jpg      \n",
            " extracting: 가위_test/13.jpg      \n",
            " extracting: 가위_test/14.jpg      \n",
            " extracting: 가위_test/15.jpg      \n",
            " extracting: 가위_test/16.jpg      \n",
            " extracting: 가위_test/17.jpg      \n",
            " extracting: 가위_test/18.jpg      \n",
            " extracting: 가위_test/19.jpg      \n",
            " extracting: 가위_test/20.jpg      \n",
            " extracting: 가위_test/21.jpg      \n",
            " extracting: 가위_test/22.jpg      \n",
            " extracting: 가위_test/23.jpg      \n",
            " extracting: 가위_test/24.jpg      \n",
            " extracting: 가위_test/25.jpg      \n",
            " extracting: 가위_test/26.jpg      \n",
            " extracting: 가위_test/27.jpg      \n",
            " extracting: 가위_test/28.jpg      \n",
            " extracting: 가위_test/29.jpg      \n",
            " extracting: 가위_test/30.jpg      \n",
            " extracting: 가위_test/31.jpg      \n",
            " extracting: 가위_test/32.jpg      \n",
            " extracting: 가위_test/33.jpg      \n",
            " extracting: 가위_test/34.jpg      \n",
            " extracting: 가위_test/35.jpg      \n",
            " extracting: 가위_test/36.jpg      \n",
            " extracting: 가위_test/37.jpg      \n",
            " extracting: 가위_test/38.jpg      \n",
            " extracting: 가위_test/39.jpg      \n",
            " extracting: 가위_test/40.jpg      \n",
            " extracting: 가위_test/41.jpg      \n",
            " extracting: 가위_test/42.jpg      \n",
            " extracting: 가위_test/43.jpg      \n",
            " extracting: 가위_test/44.jpg      \n",
            " extracting: 가위_test/45.jpg      \n",
            " extracting: 가위_test/46.jpg      \n",
            " extracting: 가위_test/47.jpg      \n",
            " extracting: 가위_test/48.jpg      \n",
            " extracting: 가위_test/49.jpg      \n",
            " extracting: 가위_test/50.jpg      \n",
            " extracting: 가위_test/51.jpg      \n",
            " extracting: 가위_test/52.jpg      \n",
            " extracting: 가위_test/53.jpg      \n",
            " extracting: 가위_test/54.jpg      \n",
            " extracting: 가위_test/55.jpg      \n",
            " extracting: 가위_test/56.jpg      \n",
            " extracting: 가위_test/57.jpg      \n",
            " extracting: 가위_test/58.jpg      \n",
            " extracting: 가위_test/59.jpg      \n",
            " extracting: 가위_test/60.jpg      \n",
            " extracting: 가위_test/61.jpg      \n",
            " extracting: 가위_test/62.jpg      \n",
            " extracting: 가위_test/63.jpg      \n",
            " extracting: 가위_test/64.jpg      \n",
            " extracting: 가위_test/65.jpg      \n",
            " extracting: 가위_test/66.jpg      \n",
            " extracting: 가위_test/67.jpg      \n",
            " extracting: 가위_test/68.jpg      \n",
            " extracting: 가위_test/69.jpg      \n",
            " extracting: 가위_test/70.jpg      \n",
            " extracting: 가위_test/71.jpg      \n",
            " extracting: 가위_test/72.jpg      \n",
            " extracting: 가위_test/73.jpg      \n",
            " extracting: 가위_test/74.jpg      \n",
            " extracting: 가위_test/75.jpg      \n",
            " extracting: 가위_test/76.jpg      \n",
            " extracting: 가위_test/77.jpg      \n",
            " extracting: 가위_test/78.jpg      \n",
            " extracting: 가위_test/79.jpg      \n",
            " extracting: 가위_test/80.jpg      \n",
            " extracting: 가위_test/81.jpg      \n",
            " extracting: 가위_test/82.jpg      \n",
            " extracting: 가위_test/83.jpg      \n",
            " extracting: 가위_test/84.jpg      \n",
            " extracting: 가위_test/85.jpg      \n",
            " extracting: 가위_test/86.jpg      \n",
            " extracting: 가위_test/87.jpg      \n",
            " extracting: 가위_test/88.jpg      \n",
            " extracting: 가위_test/89.jpg      \n",
            " extracting: 가위_test/90.jpg      \n",
            " extracting: 가위_test/91.jpg      \n",
            " extracting: 가위_test/92.jpg      \n",
            " extracting: 가위_test/93.jpg      \n",
            " extracting: 가위_test/94.jpg      \n",
            " extracting: 가위_test/95.jpg      \n",
            " extracting: 가위_test/96.jpg      \n",
            " extracting: 가위_test/97.jpg      \n",
            " extracting: 가위_test/98.jpg      \n",
            " extracting: 가위_test/99.jpg      \n",
            " extracting: 가위_test/100.jpg     \n",
            " extracting: 가위_test/101.jpg     \n",
            " extracting: 가위_test/102.jpg     \n",
            " extracting: 가위_test/103.jpg     \n",
            " extracting: 가위_test/104.jpg     \n",
            " extracting: 가위_test/105.jpg     \n",
            " extracting: 가위_test/106.jpg     \n",
            " extracting: 가위_test/107.jpg     \n",
            " extracting: 가위_test/108.jpg     \n",
            " extracting: 가위_test/109.jpg     \n",
            " extracting: 가위_test/110.jpg     \n",
            " extracting: 가위_test/111.jpg     \n",
            " extracting: 가위_test/112.jpg     \n",
            " extracting: 가위_test/113.jpg     \n",
            " extracting: 가위_test/114.jpg     \n",
            " extracting: 가위_test/115.jpg     \n",
            " extracting: 가위_test/116.jpg     \n",
            "Archive:  /content/최은서-바위-samples.zip\n",
            " extracting: 바위_test/0.jpg       \n",
            " extracting: 바위_test/1.jpg       \n",
            " extracting: 바위_test/2.jpg       \n",
            " extracting: 바위_test/3.jpg       \n",
            " extracting: 바위_test/4.jpg       \n",
            " extracting: 바위_test/5.jpg       \n",
            " extracting: 바위_test/6.jpg       \n",
            " extracting: 바위_test/7.jpg       \n",
            " extracting: 바위_test/8.jpg       \n",
            " extracting: 바위_test/9.jpg       \n",
            " extracting: 바위_test/10.jpg      \n",
            " extracting: 바위_test/11.jpg      \n",
            " extracting: 바위_test/12.jpg      \n",
            " extracting: 바위_test/13.jpg      \n",
            " extracting: 바위_test/14.jpg      \n",
            " extracting: 바위_test/15.jpg      \n",
            " extracting: 바위_test/16.jpg      \n",
            " extracting: 바위_test/17.jpg      \n",
            " extracting: 바위_test/18.jpg      \n",
            " extracting: 바위_test/19.jpg      \n",
            " extracting: 바위_test/20.jpg      \n",
            " extracting: 바위_test/21.jpg      \n",
            " extracting: 바위_test/22.jpg      \n",
            " extracting: 바위_test/23.jpg      \n",
            " extracting: 바위_test/24.jpg      \n",
            " extracting: 바위_test/25.jpg      \n",
            " extracting: 바위_test/26.jpg      \n",
            " extracting: 바위_test/27.jpg      \n",
            " extracting: 바위_test/28.jpg      \n",
            " extracting: 바위_test/29.jpg      \n",
            " extracting: 바위_test/30.jpg      \n",
            " extracting: 바위_test/31.jpg      \n",
            " extracting: 바위_test/32.jpg      \n",
            " extracting: 바위_test/33.jpg      \n",
            " extracting: 바위_test/34.jpg      \n",
            " extracting: 바위_test/35.jpg      \n",
            " extracting: 바위_test/36.jpg      \n",
            " extracting: 바위_test/37.jpg      \n",
            " extracting: 바위_test/38.jpg      \n",
            " extracting: 바위_test/39.jpg      \n",
            " extracting: 바위_test/40.jpg      \n",
            " extracting: 바위_test/41.jpg      \n",
            " extracting: 바위_test/42.jpg      \n",
            " extracting: 바위_test/43.jpg      \n",
            " extracting: 바위_test/44.jpg      \n",
            " extracting: 바위_test/45.jpg      \n",
            " extracting: 바위_test/46.jpg      \n",
            " extracting: 바위_test/47.jpg      \n",
            " extracting: 바위_test/48.jpg      \n",
            " extracting: 바위_test/49.jpg      \n",
            " extracting: 바위_test/50.jpg      \n",
            " extracting: 바위_test/51.jpg      \n",
            " extracting: 바위_test/52.jpg      \n",
            " extracting: 바위_test/53.jpg      \n",
            " extracting: 바위_test/54.jpg      \n",
            " extracting: 바위_test/55.jpg      \n",
            " extracting: 바위_test/56.jpg      \n",
            " extracting: 바위_test/57.jpg      \n",
            " extracting: 바위_test/58.jpg      \n",
            " extracting: 바위_test/59.jpg      \n",
            " extracting: 바위_test/60.jpg      \n",
            " extracting: 바위_test/61.jpg      \n",
            " extracting: 바위_test/62.jpg      \n",
            " extracting: 바위_test/63.jpg      \n",
            " extracting: 바위_test/64.jpg      \n",
            " extracting: 바위_test/65.jpg      \n",
            " extracting: 바위_test/66.jpg      \n",
            " extracting: 바위_test/67.jpg      \n",
            " extracting: 바위_test/68.jpg      \n",
            " extracting: 바위_test/69.jpg      \n",
            " extracting: 바위_test/70.jpg      \n",
            " extracting: 바위_test/71.jpg      \n",
            " extracting: 바위_test/72.jpg      \n",
            " extracting: 바위_test/73.jpg      \n",
            " extracting: 바위_test/74.jpg      \n",
            " extracting: 바위_test/75.jpg      \n",
            " extracting: 바위_test/76.jpg      \n",
            " extracting: 바위_test/77.jpg      \n",
            " extracting: 바위_test/78.jpg      \n",
            " extracting: 바위_test/79.jpg      \n",
            " extracting: 바위_test/80.jpg      \n",
            " extracting: 바위_test/81.jpg      \n",
            " extracting: 바위_test/82.jpg      \n",
            " extracting: 바위_test/83.jpg      \n",
            " extracting: 바위_test/84.jpg      \n",
            " extracting: 바위_test/85.jpg      \n",
            " extracting: 바위_test/86.jpg      \n",
            " extracting: 바위_test/87.jpg      \n",
            " extracting: 바위_test/88.jpg      \n",
            " extracting: 바위_test/89.jpg      \n",
            " extracting: 바위_test/90.jpg      \n",
            " extracting: 바위_test/91.jpg      \n",
            " extracting: 바위_test/92.jpg      \n",
            " extracting: 바위_test/93.jpg      \n",
            " extracting: 바위_test/94.jpg      \n",
            " extracting: 바위_test/95.jpg      \n",
            " extracting: 바위_test/96.jpg      \n",
            " extracting: 바위_test/97.jpg      \n",
            " extracting: 바위_test/98.jpg      \n",
            " extracting: 바위_test/99.jpg      \n",
            " extracting: 바위_test/100.jpg     \n",
            " extracting: 바위_test/101.jpg     \n",
            " extracting: 바위_test/102.jpg     \n",
            " extracting: 바위_test/103.jpg     \n",
            " extracting: 바위_test/104.jpg     \n",
            " extracting: 바위_test/105.jpg     \n",
            " extracting: 바위_test/106.jpg     \n",
            " extracting: 바위_test/107.jpg     \n",
            "Archive:  /content/최은서-보-samples.zip\n",
            " extracting: 보_test/0.jpg          \n",
            " extracting: 보_test/1.jpg          \n",
            " extracting: 보_test/2.jpg          \n",
            " extracting: 보_test/3.jpg          \n",
            " extracting: 보_test/4.jpg          \n",
            " extracting: 보_test/5.jpg          \n",
            " extracting: 보_test/6.jpg          \n",
            " extracting: 보_test/7.jpg          \n",
            " extracting: 보_test/8.jpg          \n",
            " extracting: 보_test/9.jpg          \n",
            " extracting: 보_test/10.jpg         \n",
            " extracting: 보_test/11.jpg         \n",
            " extracting: 보_test/12.jpg         \n",
            " extracting: 보_test/13.jpg         \n",
            " extracting: 보_test/14.jpg         \n",
            " extracting: 보_test/15.jpg         \n",
            " extracting: 보_test/16.jpg         \n",
            " extracting: 보_test/17.jpg         \n",
            " extracting: 보_test/18.jpg         \n",
            " extracting: 보_test/19.jpg         \n",
            " extracting: 보_test/20.jpg         \n",
            " extracting: 보_test/21.jpg         \n",
            " extracting: 보_test/22.jpg         \n",
            " extracting: 보_test/23.jpg         \n",
            " extracting: 보_test/24.jpg         \n",
            " extracting: 보_test/25.jpg         \n",
            " extracting: 보_test/26.jpg         \n",
            " extracting: 보_test/27.jpg         \n",
            " extracting: 보_test/28.jpg         \n",
            " extracting: 보_test/29.jpg         \n",
            " extracting: 보_test/30.jpg         \n",
            " extracting: 보_test/31.jpg         \n",
            " extracting: 보_test/32.jpg         \n",
            " extracting: 보_test/33.jpg         \n",
            " extracting: 보_test/34.jpg         \n",
            " extracting: 보_test/35.jpg         \n",
            " extracting: 보_test/36.jpg         \n",
            " extracting: 보_test/37.jpg         \n",
            " extracting: 보_test/38.jpg         \n",
            " extracting: 보_test/39.jpg         \n",
            " extracting: 보_test/40.jpg         \n",
            " extracting: 보_test/41.jpg         \n",
            " extracting: 보_test/42.jpg         \n",
            " extracting: 보_test/43.jpg         \n",
            " extracting: 보_test/44.jpg         \n",
            " extracting: 보_test/45.jpg         \n",
            " extracting: 보_test/46.jpg         \n",
            " extracting: 보_test/47.jpg         \n",
            " extracting: 보_test/48.jpg         \n",
            " extracting: 보_test/49.jpg         \n",
            " extracting: 보_test/50.jpg         \n",
            " extracting: 보_test/51.jpg         \n",
            " extracting: 보_test/52.jpg         \n",
            " extracting: 보_test/53.jpg         \n",
            " extracting: 보_test/54.jpg         \n",
            " extracting: 보_test/55.jpg         \n",
            " extracting: 보_test/56.jpg         \n",
            " extracting: 보_test/57.jpg         \n",
            " extracting: 보_test/58.jpg         \n",
            " extracting: 보_test/59.jpg         \n",
            " extracting: 보_test/60.jpg         \n",
            " extracting: 보_test/61.jpg         \n",
            " extracting: 보_test/62.jpg         \n",
            " extracting: 보_test/63.jpg         \n",
            " extracting: 보_test/64.jpg         \n",
            " extracting: 보_test/65.jpg         \n",
            " extracting: 보_test/66.jpg         \n",
            " extracting: 보_test/67.jpg         \n",
            " extracting: 보_test/68.jpg         \n",
            " extracting: 보_test/69.jpg         \n",
            " extracting: 보_test/70.jpg         \n",
            " extracting: 보_test/71.jpg         \n",
            " extracting: 보_test/72.jpg         \n",
            " extracting: 보_test/73.jpg         \n",
            " extracting: 보_test/74.jpg         \n",
            " extracting: 보_test/75.jpg         \n",
            " extracting: 보_test/76.jpg         \n",
            " extracting: 보_test/77.jpg         \n",
            " extracting: 보_test/78.jpg         \n",
            " extracting: 보_test/79.jpg         \n",
            " extracting: 보_test/80.jpg         \n",
            " extracting: 보_test/81.jpg         \n",
            " extracting: 보_test/82.jpg         \n",
            " extracting: 보_test/83.jpg         \n",
            " extracting: 보_test/84.jpg         \n",
            " extracting: 보_test/85.jpg         \n",
            " extracting: 보_test/86.jpg         \n",
            " extracting: 보_test/87.jpg         \n",
            " extracting: 보_test/88.jpg         \n",
            " extracting: 보_test/89.jpg         \n",
            " extracting: 보_test/90.jpg         \n",
            " extracting: 보_test/91.jpg         \n",
            " extracting: 보_test/92.jpg         \n",
            " extracting: 보_test/93.jpg         \n",
            " extracting: 보_test/94.jpg         \n",
            " extracting: 보_test/95.jpg         \n",
            " extracting: 보_test/96.jpg         \n",
            " extracting: 보_test/97.jpg         \n",
            " extracting: 보_test/98.jpg         \n",
            " extracting: 보_test/99.jpg         \n",
            " extracting: 보_test/100.jpg        \n",
            " extracting: 보_test/101.jpg        \n",
            " extracting: 보_test/102.jpg        \n"
          ]
        }
      ]
    },
    {
      "cell_type": "code",
      "source": [
        "import numpy as np\n",
        "\n",
        "# 셔플 함수를 넣어봤습니다\n",
        "from sklearn.utils import shuffle\n",
        "\n",
        "# 저희가 만든 데이터는 개수가 300개가 아닐수있습니다\n",
        "# 아래 함수의 인자가 조금 바뀐것에 주의하세요\n",
        "\n",
        "\n",
        "def load_test_data(img_path):  # 가위바위보 이미지 개수 총합에 주의하세요.\n",
        "    # 가위 : 0, 바위 : 1, 보 : 2\n",
        "    img_size=28\n",
        "    color=3\n",
        "\n",
        "    # 데이터의 개수 자동 조정\n",
        "    all_images = glob.glob(f'./가위_test/*.jpg') + \\\n",
        "                 glob.glob(f'./바위_test/*.jpg') + \\\n",
        "                 glob.glob(f'./보_test/*.jpg')\n",
        "    number_of_data = len(all_images)\n",
        "\n",
        "    #이미지 데이터와 라벨(가위 : 0, 바위 : 1, 보 : 2) 데이터를 담을 행렬(matrix) 영역을 생성합니다.\n",
        "    imgs=np.zeros(number_of_data*img_size*img_size*color,dtype=np.int32).reshape(number_of_data,img_size,img_size,color)\n",
        "    labels=np.zeros(number_of_data,dtype=np.int32)\n",
        "\n",
        "\n",
        "\n",
        "    idx=0\n",
        "    for file in glob.iglob('./가위_test/*.jpg'):\n",
        "        img = np.array(Image.open(file),dtype=np.int32)\n",
        "        imgs[idx,:,:,:]=img    # 데이터 영역에 이미지 행렬을 복사\n",
        "        labels[idx]=0   # 가위 : 0\n",
        "        idx=idx+1\n",
        "\n",
        "    for file in glob.iglob('./바위_test/*.jpg'):\n",
        "        img = np.array(Image.open(file),dtype=np.int32)\n",
        "        imgs[idx,:,:,:]=img    # 데이터 영역에 이미지 행렬을 복사\n",
        "        labels[idx]=1   # 바위 : 1\n",
        "        idx=idx+1\n",
        "\n",
        "    for file in glob.iglob('./보_test/*.jpg'):\n",
        "        img = np.array(Image.open(file),dtype=np.int32)\n",
        "        imgs[idx,:,:,:]=img    # 데이터 영역에 이미지 행렬을 복사\n",
        "        labels[idx]=2   # 보 : 2\n",
        "        idx=idx+1\n",
        "\n",
        "    print(\"테스트데이터(x_test)의 이미지 개수는\", idx,\"입니다.\")\n",
        "    return imgs, labels\n",
        "\n",
        "image_dir_path = \".\"\n",
        "(x_train, y_train)=load_data(image_dir_path)\n",
        "\n",
        "x_train, y_train = shuffle(x_train, y_train, random_state=42)\n",
        "x_train_norm = x_train/255.0   # 입력은 0~1 사이의 값으로 정규화\n",
        "\n",
        "print(\"x_test shape: {}\".format(x_train.shape))\n",
        "print(\"y_test shape: {}\".format(y_train.shape))"
      ],
      "metadata": {
        "colab": {
          "base_uri": "https://localhost:8080/"
        },
        "id": "LOMCqfT6La2E",
        "outputId": "bfb6f5c2-9922-4647-914e-741a749fca1f"
      },
      "execution_count": 29,
      "outputs": [
        {
          "output_type": "stream",
          "name": "stdout",
          "text": [
            "학습데이터(x_train)의 이미지 개수는 300 입니다.\n",
            "x_test shape: (300, 28, 28, 3)\n",
            "y_test shape: (300,)\n"
          ]
        }
      ]
    },
    {
      "cell_type": "code",
      "source": [
        "# x_test, y_test를 만드는 방법은 x_train, y_train을 만드는 방법과 아주 유사합니다.\n",
        "image_dir_path = \"./가위_test\"\n",
        "resize_images(image_dir_path)\n",
        "\n",
        "image_dir_path = \"./바위_test\"\n",
        "resize_images(image_dir_path)\n",
        "\n",
        "image_dir_path = \"./보_test\"\n",
        "resize_images(image_dir_path)\n",
        "\n",
        "image_dir_path = \".\"\n",
        "(x_test, y_test)=load_test_data(image_dir_path)\n",
        "x_test_norm = x_test/255.0   # 입력은 0~1 사이의 값으로 정규화\n",
        "print(\"x_test shape: {}\".format(x_test.shape))\n",
        "print(\"y_test shape: {}\".format(y_test.shape))"
      ],
      "metadata": {
        "colab": {
          "base_uri": "https://localhost:8080/"
        },
        "id": "evZpVnjoHrou",
        "outputId": "363e8d00-1e4d-4d48-86fd-2291321c73e7"
      },
      "execution_count": 30,
      "outputs": [
        {
          "output_type": "stream",
          "name": "stdout",
          "text": [
            "117  images to be resized.\n",
            "117  images resized.\n",
            "108  images to be resized.\n",
            "108  images resized.\n",
            "103  images to be resized.\n",
            "103  images resized.\n",
            "테스트데이터(x_test)의 이미지 개수는 328 입니다.\n",
            "x_test shape: (328, 28, 28, 3)\n",
            "y_test shape: (328,)\n"
          ]
        }
      ]
    },
    {
      "cell_type": "code",
      "source": [
        "test_loss, test_accuracy = model.evaluate(x_test, y_test, verbose=2)\n",
        "print(\"test_loss: {} \".format(test_loss))\n",
        "print(\"test_accuracy: {}\".format(test_accuracy))"
      ],
      "metadata": {
        "colab": {
          "base_uri": "https://localhost:8080/"
        },
        "id": "Y-zuD_F2IB-w",
        "outputId": "2fcdbbe3-4e34-4883-9c35-9ee772153de1"
      },
      "execution_count": 31,
      "outputs": [
        {
          "output_type": "stream",
          "name": "stdout",
          "text": [
            "11/11 - 0s - 24ms/step - accuracy: 0.3171 - loss: 4.5816\n",
            "test_loss: 4.581564903259277 \n",
            "test_accuracy: 0.31707316637039185\n"
          ]
        }
      ]
    },
    {
      "cell_type": "code",
      "source": [
        "plt.imshow(x_test[10])\n",
        "print('라벨: ', y_test[10])"
      ],
      "metadata": {
        "colab": {
          "base_uri": "https://localhost:8080/",
          "height": 448
        },
        "id": "VFUNYJvSaqZ0",
        "outputId": "eeb301f2-d21e-4cee-f8fd-be4263ea74ad"
      },
      "execution_count": 32,
      "outputs": [
        {
          "output_type": "stream",
          "name": "stdout",
          "text": [
            "라벨:  0\n"
          ]
        },
        {
          "output_type": "display_data",
          "data": {
            "text/plain": [
              "<Figure size 640x480 with 1 Axes>"
            ],
            "image/png": "[encoded data removed]"
          },
          "metadata": {}
        }
      ]
    },
    {
      "cell_type": "code",
      "source": [],
      "metadata": {
        "id": "MNcEuC9Mn9KX"
      },
      "execution_count": 32,
      "outputs": []
    }
  ]
}